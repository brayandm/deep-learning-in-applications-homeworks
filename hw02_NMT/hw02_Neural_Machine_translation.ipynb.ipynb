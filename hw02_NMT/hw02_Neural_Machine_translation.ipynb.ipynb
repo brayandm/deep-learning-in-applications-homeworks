{
 "cells": [
  {
   "cell_type": "markdown",
   "metadata": {},
   "source": [
    "## Lab assignment 02"
   ]
  },
  {
   "cell_type": "markdown",
   "metadata": {},
   "source": [
    "### Neural Machine Translation in the wild\n",
    "In the third homework you are supposed to get the best translation you can for the EN-RU translation task.\n",
    "\n",
    "Basic approach using RNNs as encoder and decoder is implemented for you. \n",
    "\n",
    "Your ultimate task is to use the techniques we've covered, e.g.\n",
    "\n",
    "* Optimization enhancements (e.g. learning rate decay)\n",
    "\n",
    "* Transformer/CNN/<whatever you select> encoder (with or without positional encoding)\n",
    "\n",
    "* attention/self-attention mechanism\n",
    "\n",
    "* pretraining the language models (for decoder and encoder)\n",
    "\n",
    "* or just fine-tunning BART/ELECTRA/... ;)\n",
    "\n",
    "to improve the translation quality. \n",
    "\n",
    "__Please use at least three different approaches/models and compare them (translation quality/complexity/training and evaluation time).__\n",
    "\n",
    "Write down some summary on your experiments and illustrate it with convergence plots/metrics and your thoughts. Just like you would approach a real problem."
   ]
  },
  {
   "cell_type": "code",
   "execution_count": 1,
   "metadata": {},
   "outputs": [],
   "source": [
    "# You might need to install the libraries below. Do it in the desired environment\n",
    "# if you are working locally.\n",
    "\n",
    "# ! pip  install subword-nmt\n",
    "# ! pip install nltk\n",
    "# ! pip install torchtext"
   ]
  },
  {
   "cell_type": "code",
   "execution_count": 1,
   "metadata": {},
   "outputs": [
    {
     "name": "stdout",
     "output_type": "stream",
     "text": [
      "Dataset not found locally. Downloading from github.\n",
      "File ‘data.txt’ already there; not retrieving.\n",
      "\n"
     ]
    }
   ],
   "source": [
    "# Thanks to YSDA NLP course team for the data\n",
    "# (who thanks tilda and deephack teams for the data in their turn)\n",
    "\n",
    "import os\n",
    "path_do_data = '../../datasets/Machine_translation_EN_RU/data.txt'\n",
    "if not os.path.exists(path_do_data):\n",
    "    print(\"Dataset not found locally. Downloading from github.\")\n",
    "    !wget https://raw.githubusercontent.com/neychev/made_nlp_course/master/datasets/Machine_translation_EN_RU/data.txt -nc\n",
    "    path_do_data = './data.txt'"
   ]
  },
  {
   "cell_type": "markdown",
   "metadata": {},
   "source": [
    "Baseline solution BLEU score is quite low. Try to achieve at least __21__ BLEU on the test set. \n",
    "The checkpoints are:\n",
    "\n",
    "* __21__ - minimal score to submit the homework, 30% of points\n",
    "\n",
    "* __25__ - good score, 70% of points\n",
    "\n",
    "* __27__ - excellent score, 100% of points"
   ]
  },
  {
   "cell_type": "markdown",
   "metadata": {},
   "source": [
    "### Warning! The code below is deeeeeeeply deprecated and is is provided only as simple guide.\n",
    "We suggest you to stick to most recent pipelines here, e.g. by Huggingface: \n",
    "* Example notebook: [link](https://github.com/huggingface/notebooks/blob/main/examples/translation.ipynb)\n",
    "* Converting your own dataset to specific format: [link](https://discuss.huggingface.co/t/correct-way-to-create-a-dataset-from-a-csv-file/15686/15)"
   ]
  },
  {
   "cell_type": "code",
   "execution_count": 2,
   "metadata": {},
   "outputs": [],
   "source": [
    "# old deprecated code\n",
    "import torch\n",
    "import torch.nn as nn\n",
    "import torch.optim as optim\n",
    "\n",
    "import torchtext\n",
    "# from torchtext.datasets import TranslationDataset, Multi30k\n",
    "# from torchtext.data import Field, BucketIterator\n",
    "\n",
    "from torchtext.vocab import build_vocab_from_iterator\n",
    "from torchtext.data.utils import get_tokenizer\n",
    "from torchtext.data.functional import to_map_style_dataset\n",
    "from torch.utils.data import DataLoader\n",
    "from torch.nn.utils.rnn import pad_sequence\n",
    "from torch.utils.data.dataset import random_split\n",
    "\n",
    "import pandas as pd\n",
    "\n",
    "import spacy\n",
    "import collections\n",
    "\n",
    "import random\n",
    "import math\n",
    "import time\n",
    "\n",
    "import matplotlib\n",
    "matplotlib.rcParams.update({'figure.figsize': (16, 12), 'font.size': 14})\n",
    "import matplotlib.pyplot as plt\n",
    "%matplotlib inline\n",
    "from IPython.display import clear_output\n",
    "\n",
    "from nltk.tokenize import WordPunctTokenizer\n",
    "from subword_nmt.learn_bpe import learn_bpe\n",
    "from subword_nmt.apply_bpe import BPE\n"
   ]
  },
  {
   "cell_type": "markdown",
   "metadata": {},
   "source": [
    "### Main part\n",
    "__Here comes the preprocessing. Do not hesitate to use BPE or more complex preprocessing ;)__"
   ]
  },
  {
   "cell_type": "code",
   "execution_count": 3,
   "metadata": {},
   "outputs": [],
   "source": [
    "tokenizer_W = WordPunctTokenizer()\n",
    "\n",
    "def tokenize(text):\n",
    "    return tokenizer_W.tokenize(text.lower())\n",
    "\n",
    "def yield_tokens(data_iter, tokenizer, language):\n",
    "    language_index = {'src': 1, 'trg': 0}[language]\n",
    "    \n",
    "    for item in data_iter:\n",
    "        yield tokenizer(item[language_index])"
   ]
  },
  {
   "cell_type": "code",
   "execution_count": 4,
   "metadata": {},
   "outputs": [
    {
     "data": {
      "text/html": [
       "<div>\n",
       "<style scoped>\n",
       "    .dataframe tbody tr th:only-of-type {\n",
       "        vertical-align: middle;\n",
       "    }\n",
       "\n",
       "    .dataframe tbody tr th {\n",
       "        vertical-align: top;\n",
       "    }\n",
       "\n",
       "    .dataframe thead th {\n",
       "        text-align: right;\n",
       "    }\n",
       "</style>\n",
       "<table border=\"1\" class=\"dataframe\">\n",
       "  <thead>\n",
       "    <tr style=\"text-align: right;\">\n",
       "      <th></th>\n",
       "      <th>src</th>\n",
       "      <th>trg</th>\n",
       "    </tr>\n",
       "  </thead>\n",
       "  <tbody>\n",
       "    <tr>\n",
       "      <th>0</th>\n",
       "      <td>Cordelia Hotel is situated in Tbilisi, a 3-min...</td>\n",
       "      <td>Отель Cordelia расположен в Тбилиси, в 3 минут...</td>\n",
       "    </tr>\n",
       "    <tr>\n",
       "      <th>1</th>\n",
       "      <td>At Tupirmarka Lodge you will find a 24-hour fr...</td>\n",
       "      <td>В числе удобств лоджа Tupirmarka круглосуточна...</td>\n",
       "    </tr>\n",
       "    <tr>\n",
       "      <th>2</th>\n",
       "      <td>Featuring free WiFi in all areas, Naigao Xiaow...</td>\n",
       "      <td>Апартаменты Naigao Xiaowo расположены в городе...</td>\n",
       "    </tr>\n",
       "    <tr>\n",
       "      <th>3</th>\n",
       "      <td>Each has a TV and a private bathroom with shower.</td>\n",
       "      <td>В вашем распоряжении также телевизор и собстве...</td>\n",
       "    </tr>\n",
       "    <tr>\n",
       "      <th>4</th>\n",
       "      <td>Your room comes with air conditioning and sate...</td>\n",
       "      <td>Номер оснащен кондиционером и спутниковым теле...</td>\n",
       "    </tr>\n",
       "    <tr>\n",
       "      <th>...</th>\n",
       "      <td>...</td>\n",
       "      <td>...</td>\n",
       "    </tr>\n",
       "    <tr>\n",
       "      <th>49995</th>\n",
       "      <td>The spacious air-conditioned rooms open out to...</td>\n",
       "      <td>Просторные номера с кондиционером выходят на с...</td>\n",
       "    </tr>\n",
       "    <tr>\n",
       "      <th>49996</th>\n",
       "      <td>Minsk Ring road is a 5-minute drive from the p...</td>\n",
       "      <td>Минская кольцевая автомобильная дорога проходи...</td>\n",
       "    </tr>\n",
       "    <tr>\n",
       "      <th>49997</th>\n",
       "      <td>There is a private bathroom with a shower.</td>\n",
       "      <td>В собственной ванной комнате установлен душ.</td>\n",
       "    </tr>\n",
       "    <tr>\n",
       "      <th>49998</th>\n",
       "      <td>It is a 15-minute drive from Malacca Town Cent...</td>\n",
       "      <td>За 15 минут вы доедете до центра города Малакк...</td>\n",
       "    </tr>\n",
       "    <tr>\n",
       "      <th>49999</th>\n",
       "      <td>Each room at Apartments na Podgornoy is colour...</td>\n",
       "      <td>Все апартаменты « На Подгорной» красочно оформ...</td>\n",
       "    </tr>\n",
       "  </tbody>\n",
       "</table>\n",
       "<p>50000 rows × 2 columns</p>\n",
       "</div>"
      ],
      "text/plain": [
       "                                                     src  \\\n",
       "0      Cordelia Hotel is situated in Tbilisi, a 3-min...   \n",
       "1      At Tupirmarka Lodge you will find a 24-hour fr...   \n",
       "2      Featuring free WiFi in all areas, Naigao Xiaow...   \n",
       "3      Each has a TV and a private bathroom with shower.   \n",
       "4      Your room comes with air conditioning and sate...   \n",
       "...                                                  ...   \n",
       "49995  The spacious air-conditioned rooms open out to...   \n",
       "49996  Minsk Ring road is a 5-minute drive from the p...   \n",
       "49997         There is a private bathroom with a shower.   \n",
       "49998  It is a 15-minute drive from Malacca Town Cent...   \n",
       "49999  Each room at Apartments na Podgornoy is colour...   \n",
       "\n",
       "                                                     trg  \n",
       "0      Отель Cordelia расположен в Тбилиси, в 3 минут...  \n",
       "1      В числе удобств лоджа Tupirmarka круглосуточна...  \n",
       "2      Апартаменты Naigao Xiaowo расположены в городе...  \n",
       "3      В вашем распоряжении также телевизор и собстве...  \n",
       "4      Номер оснащен кондиционером и спутниковым теле...  \n",
       "...                                                  ...  \n",
       "49995  Просторные номера с кондиционером выходят на с...  \n",
       "49996  Минская кольцевая автомобильная дорога проходи...  \n",
       "49997       В собственной ванной комнате установлен душ.  \n",
       "49998  За 15 минут вы доедете до центра города Малакк...  \n",
       "49999  Все апартаменты « На Подгорной» красочно оформ...  \n",
       "\n",
       "[50000 rows x 2 columns]"
      ]
     },
     "execution_count": 4,
     "metadata": {},
     "output_type": "execute_result"
    }
   ],
   "source": [
    "specials = ['<unk>', '<pad>', '<sos>', '<eos>']\n",
    "init_token = '<sos>'\n",
    "eos_token = '<eos>'\n",
    "\n",
    "data_df = pd.read_csv(path_do_data, sep='\\t', names=['src', 'trg'])\n",
    "data_tuples = list(data_df.to_records(index=False))\n",
    "\n",
    "data_df"
   ]
  },
  {
   "cell_type": "code",
   "execution_count": 5,
   "metadata": {},
   "outputs": [],
   "source": [
    "total_data = to_map_style_dataset(data_tuples)\n",
    "\n",
    "train_len = int(len(total_data) * 0.8)\n",
    "valid_len = int(len(total_data) * 0.15)\n",
    "test_len = len(total_data) - train_len - valid_len\n",
    "\n",
    "train_data, valid_data, test_data = random_split(total_data, [train_len, valid_len, test_len], generator=torch.Generator().manual_seed(42))"
   ]
  },
  {
   "cell_type": "code",
   "execution_count": 6,
   "metadata": {},
   "outputs": [
    {
     "name": "stdout",
     "output_type": "stream",
     "text": [
      "Number of training examples: 40000\n",
      "Number of validation examples: 7500\n",
      "Number of testing examples: 2500\n"
     ]
    }
   ],
   "source": [
    "print(f\"Number of training examples: {len(train_data)}\")\n",
    "print(f\"Number of validation examples: {len(valid_data)}\")\n",
    "print(f\"Number of testing examples: {len(test_data)}\")"
   ]
  },
  {
   "cell_type": "code",
   "execution_count": 9,
   "metadata": {},
   "outputs": [],
   "source": [
    "counter_src = collections.Counter()\n",
    "counter_trg = collections.Counter()\n",
    "\n",
    "for src, trg in train_data:\n",
    "    counter_src.update(tokenize(src))\n",
    "    counter_trg.update(tokenize(trg))\n",
    "\n",
    "def apply_min_freq(counter, min_freq):\n",
    "    return {word: freq for word, freq in counter.items() if freq >= min_freq}\n",
    "\n",
    "filtered_vocab_src = apply_min_freq(counter_src, 3)\n",
    "filtered_vocab_trg = apply_min_freq(counter_trg, 3)\n",
    "\n",
    "vocab_src = build_vocab_from_iterator([filtered_vocab_src], specials=specials)\n",
    "vocab_trg = build_vocab_from_iterator([filtered_vocab_trg], specials=specials)\n",
    "\n",
    "vocab_src.set_default_index(vocab_src['<unk>'])\n",
    "vocab_trg.set_default_index(vocab_trg['<unk>'])\n",
    "\n",
    "itos_src = vocab_src.get_itos()  \n",
    "itos_trg = vocab_trg.get_itos()\n",
    "\n",
    "def collate_batch(batch):\n",
    "    batch_size = len(batch)\n",
    "\n",
    "    max_src_len = max(len(tokenize(src)) for src, trg in batch) + 2  # +2 for <sos> and <eos>\n",
    "    max_trg_len = max(len(tokenize(trg)) for src, trg in batch) + 2  # +2 for <sos> and <eos>\n",
    "\n",
    "    src_batch = torch.full((batch_size, max_src_len), vocab_src['<pad>'], dtype=torch.long)\n",
    "    trg_batch = torch.full((batch_size, max_trg_len), vocab_trg['<pad>'], dtype=torch.long)\n",
    "\n",
    "    for i, (src, trg) in enumerate(batch):\n",
    "        src_tokens = [vocab_src['<sos>']] + [vocab_src[token] for token in tokenize(src)] + [vocab_src['<eos>']]\n",
    "        trg_tokens = [vocab_trg['<sos>']] + [vocab_trg[token] for token in tokenize(trg)] + [vocab_trg['<eos>']]\n",
    "\n",
    "        src_batch[i, :len(src_tokens)] = torch.tensor(src_tokens, dtype=torch.long)\n",
    "        trg_batch[i, :len(trg_tokens)] = torch.tensor(trg_tokens, dtype=torch.long)\n",
    "\n",
    "    src_batch = src_batch.transpose(0, 1)\n",
    "    trg_batch = trg_batch.transpose(0, 1)\n",
    "\n",
    "    return src_batch, trg_batch"
   ]
  },
  {
   "cell_type": "code",
   "execution_count": 10,
   "metadata": {},
   "outputs": [
    {
     "name": "stdout",
     "output_type": "stream",
     "text": [
      "Unique tokens in source vocabulary: 6711\n",
      "Unique tokens in target vocabulary: 9310\n"
     ]
    }
   ],
   "source": [
    "print(f\"Unique tokens in source vocabulary: {len(vocab_src)}\")\n",
    "print(f\"Unique tokens in target vocabulary: {len(vocab_trg)}\")"
   ]
  },
  {
   "cell_type": "markdown",
   "metadata": {},
   "source": [
    "Here are tokens from original (RU) corpus:"
   ]
  },
  {
   "cell_type": "code",
   "execution_count": 11,
   "metadata": {},
   "outputs": [
    {
     "data": {
      "text/plain": [
       "['<unk>', 'palma', 'groves', 'biscuits', 'mayan', 'states', 'malagueta']"
      ]
     },
     "execution_count": 11,
     "metadata": {},
     "output_type": "execute_result"
    }
   ],
   "source": [
    "itos_src[::1000]"
   ]
  },
  {
   "cell_type": "markdown",
   "metadata": {},
   "source": [
    "And from target (EN) corpus:"
   ]
  },
  {
   "cell_type": "code",
   "execution_count": 12,
   "metadata": {},
   "outputs": [
    {
     "data": {
      "text/plain": [
       "['<unk>',\n",
       " 'дерева',\n",
       " 'downtown',\n",
       " 'кататься',\n",
       " 'центрами',\n",
       " 'шах',\n",
       " 'margarita',\n",
       " 'трибхуван',\n",
       " 'дагомыс',\n",
       " 'стереосистемой']"
      ]
     },
     "execution_count": 12,
     "metadata": {},
     "output_type": "execute_result"
    }
   ],
   "source": [
    "itos_trg[::1000]"
   ]
  },
  {
   "cell_type": "markdown",
   "metadata": {},
   "source": [
    "And here is example from train dataset:"
   ]
  },
  {
   "cell_type": "code",
   "execution_count": 13,
   "metadata": {},
   "outputs": [
    {
     "name": "stdout",
     "output_type": "stream",
     "text": [
      "['each', 'has', 'a', 'bathroom', 'with', 'a', 'bath', 'and', 'a', 'shower', ',', 'as', 'well', 'as', 'a', 'minibar', 'and', 'a', 'tv', '.']\n",
      "['в', 'распоряжении', 'гостей', 'мини', '-', 'бар', ',', 'телевизор', 'и', 'ванная', 'комната', 'с', 'ванной', 'и', 'душем', '.']\n"
     ]
    }
   ],
   "source": [
    "print(tokenize(train_data[0][0]))\n",
    "print(tokenize(train_data[0][1]))"
   ]
  },
  {
   "cell_type": "markdown",
   "metadata": {},
   "source": [
    "Let's check the length distributions:"
   ]
  },
  {
   "cell_type": "code",
   "execution_count": 14,
   "metadata": {},
   "outputs": [
    {
     "name": "stdout",
     "output_type": "stream",
     "text": [
      "Length distribution in Train data\n"
     ]
    },
    {
     "data": {
      "image/png": "[encoded data removed]",
      "text/plain": [
       "<Figure size 800x400 with 2 Axes>"
      ]
     },
     "metadata": {},
     "output_type": "display_data"
    }
   ],
   "source": [
    "src_length = map(len, [x[0] for x in train_data])\n",
    "trg_length = map(len, [x[1] for x in train_data])\n",
    "\n",
    "print('Length distribution in Train data')\n",
    "plt.figure(figsize=[8, 4])\n",
    "plt.subplot(1, 2, 1)\n",
    "plt.title(\"source length\")\n",
    "plt.hist(list(src_length), bins=20);\n",
    "\n",
    "plt.subplot(1, 2, 2)\n",
    "plt.title(\"translation length\")\n",
    "plt.hist(list(trg_length), bins=20);"
   ]
  },
  {
   "cell_type": "code",
   "execution_count": 15,
   "metadata": {},
   "outputs": [
    {
     "name": "stdout",
     "output_type": "stream",
     "text": [
      "Length distribution in Test data\n"
     ]
    },
    {
     "data": {
      "image/png": "[encoded data removed]",
      "text/plain": [
       "<Figure size 800x400 with 2 Axes>"
      ]
     },
     "metadata": {},
     "output_type": "display_data"
    }
   ],
   "source": [
    "src_length = map(len, [x[0] for x in test_data])\n",
    "trg_length = map(len, [x[1] for x in test_data])\n",
    "\n",
    "print('Length distribution in Test data')\n",
    "plt.figure(figsize=[8, 4])\n",
    "plt.subplot(1, 2, 1)\n",
    "plt.title(\"source length\")\n",
    "plt.hist(list(src_length), bins=20);\n",
    "\n",
    "plt.subplot(1, 2, 2)\n",
    "plt.title(\"translation length\")\n",
    "plt.hist(list(trg_length), bins=20);"
   ]
  },
  {
   "cell_type": "markdown",
   "metadata": {},
   "source": [
    "### Model side\n",
    "__Here comes simple pipeline of NMT model learning. It almost copies the week03 practice__"
   ]
  },
  {
   "cell_type": "code",
   "execution_count": 16,
   "metadata": {},
   "outputs": [],
   "source": [
    "device = torch.device('cuda' if torch.cuda.is_available() else 'cpu')"
   ]
  },
  {
   "cell_type": "code",
   "execution_count": 17,
   "metadata": {},
   "outputs": [
    {
     "data": {
      "text/plain": [
       "device(type='cpu')"
      ]
     },
     "execution_count": 17,
     "metadata": {},
     "output_type": "execute_result"
    }
   ],
   "source": [
    "device"
   ]
  },
  {
   "cell_type": "code",
   "execution_count": 18,
   "metadata": {},
   "outputs": [],
   "source": [
    "BATCH_SIZE = 128\n",
    "\n",
    "train_loader = DataLoader(train_data, batch_size=BATCH_SIZE, shuffle=True, collate_fn=collate_batch, generator=torch.Generator().manual_seed(42))\n",
    "valid_loader = DataLoader(valid_data, batch_size=BATCH_SIZE, shuffle=True, collate_fn=collate_batch, generator=torch.Generator().manual_seed(42))\n",
    "test_loader = DataLoader(test_data, batch_size=BATCH_SIZE, shuffle=True, collate_fn=collate_batch, generator=torch.Generator().manual_seed(42))\n"
   ]
  },
  {
   "cell_type": "code",
   "execution_count": 32,
   "metadata": {},
   "outputs": [
    {
     "name": "stdout",
     "output_type": "stream",
     "text": [
      "(tensor([[   2,    2,    2,  ...,    2,    2,    2],\n",
      "        [   6,    0,   15,  ...,    6, 1437, 3161],\n",
      "        [ 138,    0,   50,  ...,  947,  421,  301],\n",
      "        ...,\n",
      "        [   1,    1,    1,  ...,    1,    1,    1],\n",
      "        [   1,    1,    1,  ...,    1,    1,    1],\n",
      "        [   1,    1,    1,  ...,    1,    1,    1]]), tensor([[  2,   2,   2,  ...,   2,   2,   2],\n",
      "        [ 13,   5,  11,  ...,  13,   5, 356],\n",
      "        [102,  71, 162,  ..., 428,  46,   0],\n",
      "        ...,\n",
      "        [  1,   1,   1,  ...,   1,   1,   1],\n",
      "        [  1,   1,   1,  ...,   1,   1,   1],\n",
      "        [  1,   1,   1,  ...,   1,   1,   1]]))\n",
      "torch.Size([49, 128]) torch.Size([47, 128])\n"
     ]
    }
   ],
   "source": [
    "for x in train_loader:\n",
    "    break\n",
    "print(x)\n",
    "print(x[0].shape, x[1].shape)"
   ]
  },
  {
   "cell_type": "code",
   "execution_count": 20,
   "metadata": {},
   "outputs": [],
   "source": [
    "import my_network\n",
    "Encoder = my_network.Encoder\n",
    "Decoder = my_network.Decoder\n",
    "Seq2Seq = my_network.Seq2Seq"
   ]
  },
  {
   "cell_type": "code",
   "execution_count": 21,
   "metadata": {},
   "outputs": [],
   "source": [
    "INPUT_DIM = len(vocab_src)\n",
    "OUTPUT_DIM = len(vocab_trg)\n",
    "ENC_EMB_DIM = 256\n",
    "DEC_EMB_DIM = 256\n",
    "HID_DIM = 512\n",
    "N_LAYERS = 2\n",
    "ENC_DROPOUT = 0.5\n",
    "DEC_DROPOUT = 0.5\n",
    "\n",
    "enc = Encoder(INPUT_DIM, ENC_EMB_DIM, HID_DIM, N_LAYERS, ENC_DROPOUT)\n",
    "dec = Decoder(OUTPUT_DIM, DEC_EMB_DIM, HID_DIM, N_LAYERS, DEC_DROPOUT)\n",
    "\n",
    "# dont forget to put the model to the right device\n",
    "model = Seq2Seq(enc, dec, device).to(device)"
   ]
  },
  {
   "cell_type": "code",
   "execution_count": 22,
   "metadata": {},
   "outputs": [
    {
     "data": {
      "text/plain": [
       "Seq2Seq(\n",
       "  (encoder): Encoder(\n",
       "    (embedding): Embedding(6711, 256)\n",
       "    (rnn): LSTM(256, 512, num_layers=2, dropout=0.5)\n",
       "    (dropout): Dropout(p=0.5, inplace=False)\n",
       "  )\n",
       "  (decoder): Decoder(\n",
       "    (embedding): Embedding(9310, 256)\n",
       "    (rnn): LSTM(256, 512, num_layers=2, dropout=0.5)\n",
       "    (out): Linear(in_features=512, out_features=9310, bias=True)\n",
       "    (dropout): Dropout(p=0.5, inplace=False)\n",
       "  )\n",
       ")"
      ]
     },
     "execution_count": 22,
     "metadata": {},
     "output_type": "execute_result"
    }
   ],
   "source": [
    "def init_weights(m):\n",
    "    # <YOUR CODE HERE>\n",
    "    for name, param in m.named_parameters():\n",
    "        nn.init.uniform_(param, -0.08, 0.08)\n",
    "        \n",
    "model.apply(init_weights)"
   ]
  },
  {
   "cell_type": "code",
   "execution_count": 23,
   "metadata": {},
   "outputs": [
    {
     "name": "stdout",
     "output_type": "stream",
     "text": [
      "The model has 16,233,822 trainable parameters\n"
     ]
    }
   ],
   "source": [
    "def count_parameters(model):\n",
    "    return sum(p.numel() for p in model.parameters() if p.requires_grad)\n",
    "\n",
    "print(f'The model has {count_parameters(model):,} trainable parameters')"
   ]
  },
  {
   "cell_type": "code",
   "execution_count": 24,
   "metadata": {},
   "outputs": [],
   "source": [
    "PAD_IDX = vocab_trg['<pad>']\n",
    "optimizer = optim.Adam(model.parameters())\n",
    "criterion = nn.CrossEntropyLoss(ignore_index = PAD_IDX)"
   ]
  },
  {
   "cell_type": "code",
   "execution_count": 38,
   "metadata": {},
   "outputs": [
    {
     "name": "stdout",
     "output_type": "stream",
     "text": [
      "Help on built-in function view:\n",
      "\n",
      "view(...) method of torch.Tensor instance\n",
      "    view(*shape) -> Tensor\n",
      "    \n",
      "    Returns a new tensor with the same data as the :attr:`self` tensor but of a\n",
      "    different :attr:`shape`.\n",
      "    \n",
      "    The returned tensor shares the same data and must have the same number\n",
      "    of elements, but may have a different size. For a tensor to be viewed, the new\n",
      "    view size must be compatible with its original size and stride, i.e., each new\n",
      "    view dimension must either be a subspace of an original dimension, or only span\n",
      "    across original dimensions :math:`d, d+1, \\dots, d+k` that satisfy the following\n",
      "    contiguity-like condition that :math:`\\forall i = d, \\dots, d+k-1`,\n",
      "    \n",
      "    .. math::\n",
      "    \n",
      "      \\text{stride}[i] = \\text{stride}[i+1] \\times \\text{size}[i+1]\n",
      "    \n",
      "    Otherwise, it will not be possible to view :attr:`self` tensor as :attr:`shape`\n",
      "    without copying it (e.g., via :meth:`contiguous`). When it is unclear whether a\n",
      "    :meth:`view` can be performed, it is advisable to use :meth:`reshape`, which\n",
      "    returns a view if the shapes are compatible, and copies (equivalent to calling\n",
      "    :meth:`contiguous`) otherwise.\n",
      "    \n",
      "    Args:\n",
      "        shape (torch.Size or int...): the desired size\n",
      "    \n",
      "    Example::\n",
      "    \n",
      "        >>> x = torch.randn(4, 4)\n",
      "        >>> x.size()\n",
      "        torch.Size([4, 4])\n",
      "        >>> y = x.view(16)\n",
      "        >>> y.size()\n",
      "        torch.Size([16])\n",
      "        >>> z = x.view(-1, 8)  # the size -1 is inferred from other dimensions\n",
      "        >>> z.size()\n",
      "        torch.Size([2, 8])\n",
      "    \n",
      "        >>> a = torch.randn(1, 2, 3, 4)\n",
      "        >>> a.size()\n",
      "        torch.Size([1, 2, 3, 4])\n",
      "        >>> b = a.transpose(1, 2)  # Swaps 2nd and 3rd dimension\n",
      "        >>> b.size()\n",
      "        torch.Size([1, 3, 2, 4])\n",
      "        >>> c = a.view(1, 3, 2, 4)  # Does not change tensor layout in memory\n",
      "        >>> c.size()\n",
      "        torch.Size([1, 3, 2, 4])\n",
      "        >>> torch.equal(b, c)\n",
      "        False\n",
      "    \n",
      "    \n",
      "    .. method:: view(dtype) -> Tensor\n",
      "       :noindex:\n",
      "    \n",
      "    Returns a new tensor with the same data as the :attr:`self` tensor but of a\n",
      "    different :attr:`dtype`.\n",
      "    \n",
      "    If the element size of :attr:`dtype` is different than that of ``self.dtype``,\n",
      "    then the size of the last dimension of the output will be scaled\n",
      "    proportionally.  For instance, if :attr:`dtype` element size is twice that of\n",
      "    ``self.dtype``, then each pair of elements in the last dimension of\n",
      "    :attr:`self` will be combined, and the size of the last dimension of the output\n",
      "    will be half that of :attr:`self`. If :attr:`dtype` element size is half that\n",
      "    of ``self.dtype``, then each element in the last dimension of :attr:`self` will\n",
      "    be split in two, and the size of the last dimension of the output will be\n",
      "    double that of :attr:`self`. For this to be possible, the following conditions\n",
      "    must be true:\n",
      "    \n",
      "        * ``self.dim()`` must be greater than 0.\n",
      "        * ``self.stride(-1)`` must be 1.\n",
      "    \n",
      "    Additionally, if the element size of :attr:`dtype` is greater than that of\n",
      "    ``self.dtype``, the following conditions must be true as well:\n",
      "    \n",
      "        * ``self.size(-1)`` must be divisible by the ratio between the element\n",
      "          sizes of the dtypes.\n",
      "        * ``self.storage_offset()`` must be divisible by the ratio between the\n",
      "          element sizes of the dtypes.\n",
      "        * The strides of all dimensions, except the last dimension, must be\n",
      "          divisible by the ratio between the element sizes of the dtypes.\n",
      "    \n",
      "    If any of the above conditions are not met, an error is thrown.\n",
      "    \n",
      "    .. warning::\n",
      "    \n",
      "        This overload is not supported by TorchScript, and using it in a Torchscript\n",
      "        program will cause undefined behavior.\n",
      "    \n",
      "    \n",
      "    Args:\n",
      "        dtype (:class:`torch.dtype`): the desired dtype\n",
      "    \n",
      "    Example::\n",
      "    \n",
      "        >>> x = torch.randn(4, 4)\n",
      "        >>> x\n",
      "        tensor([[ 0.9482, -0.0310,  1.4999, -0.5316],\n",
      "                [-0.1520,  0.7472,  0.5617, -0.8649],\n",
      "                [-2.4724, -0.0334, -0.2976, -0.8499],\n",
      "                [-0.2109,  1.9913, -0.9607, -0.6123]])\n",
      "        >>> x.dtype\n",
      "        torch.float32\n",
      "    \n",
      "        >>> y = x.view(torch.int32)\n",
      "        >>> y\n",
      "        tensor([[ 1064483442, -1124191867,  1069546515, -1089989247],\n",
      "                [-1105482831,  1061112040,  1057999968, -1084397505],\n",
      "                [-1071760287, -1123489973, -1097310419, -1084649136],\n",
      "                [-1101533110,  1073668768, -1082790149, -1088634448]],\n",
      "            dtype=torch.int32)\n",
      "        >>> y[0, 0] = 1000000000\n",
      "        >>> x\n",
      "        tensor([[ 0.0047, -0.0310,  1.4999, -0.5316],\n",
      "                [-0.1520,  0.7472,  0.5617, -0.8649],\n",
      "                [-2.4724, -0.0334, -0.2976, -0.8499],\n",
      "                [-0.2109,  1.9913, -0.9607, -0.6123]])\n",
      "    \n",
      "        >>> x.view(torch.cfloat)\n",
      "        tensor([[ 0.0047-0.0310j,  1.4999-0.5316j],\n",
      "                [-0.1520+0.7472j,  0.5617-0.8649j],\n",
      "                [-2.4724-0.0334j, -0.2976-0.8499j],\n",
      "                [-0.2109+1.9913j, -0.9607-0.6123j]])\n",
      "        >>> x.view(torch.cfloat).size()\n",
      "        torch.Size([4, 2])\n",
      "    \n",
      "        >>> x.view(torch.uint8)\n",
      "        tensor([[  0, 202, 154,  59, 182, 243, 253, 188, 185, 252, 191,  63, 240,  22,\n",
      "                   8, 191],\n",
      "                [227, 165,  27, 190, 128,  72,  63,  63, 146, 203,  15,  63,  22, 106,\n",
      "                  93, 191],\n",
      "                [205,  59,  30, 192, 112, 206,   8, 189,   7,  95, 152, 190,  12, 147,\n",
      "                  89, 191],\n",
      "                [ 43, 246,  87, 190, 235, 226, 254,  63, 111, 240, 117, 191, 177, 191,\n",
      "                  28, 191]], dtype=torch.uint8)\n",
      "        >>> x.view(torch.uint8).size()\n",
      "        torch.Size([4, 16])\n",
      "\n"
     ]
    }
   ],
   "source": [
    "help(t.view)"
   ]
  },
  {
   "cell_type": "code",
   "execution_count": 39,
   "metadata": {},
   "outputs": [
    {
     "name": "stdout",
     "output_type": "stream",
     "text": [
      "Help on built-in function reshape:\n",
      "\n",
      "reshape(...) method of torch.Tensor instance\n",
      "    reshape(*shape) -> Tensor\n",
      "    \n",
      "    Returns a tensor with the same data and number of elements as :attr:`self`\n",
      "    but with the specified shape. This method returns a view if :attr:`shape` is\n",
      "    compatible with the current shape. See :meth:`torch.Tensor.view` on when it is\n",
      "    possible to return a view.\n",
      "    \n",
      "    See :func:`torch.reshape`\n",
      "    \n",
      "    Args:\n",
      "        shape (tuple of ints or int...): the desired shape\n",
      "\n"
     ]
    }
   ],
   "source": [
    "help(t.reshape)"
   ]
  },
  {
   "cell_type": "code",
   "execution_count": null,
   "metadata": {},
   "outputs": [],
   "source": [
    "h"
   ]
  },
  {
   "cell_type": "code",
   "execution_count": 37,
   "metadata": {},
   "outputs": [
    {
     "name": "stdout",
     "output_type": "stream",
     "text": [
      "torch.Size([10])\n",
      "torch.Size([5, 2])\n",
      "torch.Size([10])\n"
     ]
    }
   ],
   "source": [
    "t = torch.tensor([1, 2, 3, 4, 5, 6, 7, 8, 9, 10])\n",
    "\n",
    "print(t.shape)\n",
    "t = t.view(5, 2)\n",
    "print(t.shape)\n",
    "t = t.reshape(-1)\n",
    "print(t.shape)"
   ]
  },
  {
   "cell_type": "code",
   "execution_count": 40,
   "metadata": {},
   "outputs": [],
   "source": [
    "def train(model, iterator, optimizer, criterion, clip, train_history=None, valid_history=None):\n",
    "    model.train()\n",
    "    \n",
    "    epoch_loss = 0\n",
    "    history = []\n",
    "    for i, batch in enumerate(iterator):\n",
    "        \n",
    "        src = batch[0]\n",
    "        trg = batch[1]\n",
    "        \n",
    "        optimizer.zero_grad()\n",
    "        \n",
    "        output = model(src, trg)\n",
    "        \n",
    "        #trg = [trg sent len, batch size]\n",
    "        #output = [trg sent len, batch size, output dim]\n",
    "        \n",
    "        output = output[1:].view(-1, output.shape[-1])\n",
    "        trg = trg[1:].reshape(-1)\n",
    "        # trg[1:].reshape(-1)\n",
    "        \n",
    "        #trg = [(trg sent len - 1) * batch size]\n",
    "        #output = [(trg sent len - 1) * batch size, output dim]\n",
    "        \n",
    "        loss = criterion(output, trg)\n",
    "        \n",
    "        loss.backward()\n",
    "        \n",
    "        # Let's clip the gradient\n",
    "        torch.nn.utils.clip_grad_norm_(model.parameters(), clip)\n",
    "        \n",
    "        optimizer.step()\n",
    "        \n",
    "        epoch_loss += loss.item()\n",
    "        \n",
    "        history.append(loss.cpu().data.numpy())\n",
    "        if (i+1)%10==0:\n",
    "            fig, ax = plt.subplots(nrows=1, ncols=2, figsize=(12, 8))\n",
    "\n",
    "            clear_output(True)\n",
    "            ax[0].plot(history, label='train loss')\n",
    "            ax[0].set_xlabel('Batch')\n",
    "            ax[0].set_title('Train loss')\n",
    "            if train_history is not None:\n",
    "                ax[1].plot(train_history, label='general train history')\n",
    "                ax[1].set_xlabel('Epoch')\n",
    "            if valid_history is not None:\n",
    "                ax[1].plot(valid_history, label='general valid history')\n",
    "            plt.legend()\n",
    "            \n",
    "            plt.show()\n",
    "\n",
    "        \n",
    "    return epoch_loss / len(iterator)"
   ]
  },
  {
   "cell_type": "code",
   "execution_count": 26,
   "metadata": {},
   "outputs": [],
   "source": [
    "def evaluate(model, iterator, criterion):\n",
    "    \n",
    "    model.eval()\n",
    "    \n",
    "    epoch_loss = 0\n",
    "    \n",
    "    history = []\n",
    "    \n",
    "    with torch.no_grad():\n",
    "    \n",
    "        for i, batch in enumerate(iterator):\n",
    "\n",
    "            src = batch[0]\n",
    "            trg = batch[1]\n",
    "\n",
    "            output = model(src, trg, 0) #turn off teacher forcing\n",
    "\n",
    "            #trg = [trg sent len, batch size]\n",
    "            #output = [trg sent len, batch size, output dim]\n",
    "\n",
    "            output = output[1:].view(-1, output.shape[-1])\n",
    "            trg = trg[1:].view(-1)\n",
    "\n",
    "            #trg = [(trg sent len - 1) * batch size]\n",
    "            #output = [(trg sent len - 1) * batch size, output dim]\n",
    "\n",
    "            loss = criterion(output, trg)\n",
    "            \n",
    "            epoch_loss += loss.item()\n",
    "        \n",
    "    return epoch_loss / len(iterator)"
   ]
  },
  {
   "cell_type": "code",
   "execution_count": 27,
   "metadata": {},
   "outputs": [],
   "source": [
    "def epoch_time(start_time, end_time):\n",
    "    elapsed_time = end_time - start_time\n",
    "    elapsed_mins = int(elapsed_time / 60)\n",
    "    elapsed_secs = int(elapsed_time - (elapsed_mins * 60))\n",
    "    return elapsed_mins, elapsed_secs"
   ]
  },
  {
   "cell_type": "code",
   "execution_count": 28,
   "metadata": {},
   "outputs": [],
   "source": [
    "train_history = []\n",
    "valid_history = []\n",
    "\n",
    "N_EPOCHS = 10\n",
    "CLIP = 1\n",
    "\n",
    "best_valid_loss = float('inf')"
   ]
  },
  {
   "cell_type": "code",
   "execution_count": 41,
   "metadata": {},
   "outputs": [
    {
     "name": "stdout",
     "output_type": "stream",
     "text": [
      "Epoch: 01\n"
     ]
    }
   ],
   "source": [
    "for epoch in range(N_EPOCHS):\n",
    "    print(f'Epoch: {epoch+1:02}')\n",
    "    start_time = time.time()\n",
    "    \n",
    "    train_loss = train(model, train_loader, optimizer, criterion, CLIP, train_history, valid_history)\n",
    "    valid_loss = evaluate(model, valid_loader, criterion)\n",
    "    \n",
    "    end_time = time.time()\n",
    "    \n",
    "    epoch_mins, epoch_secs = epoch_time(start_time, end_time)\n",
    "    \n",
    "    if valid_loss < best_valid_loss:\n",
    "        best_valid_loss = valid_loss\n",
    "        torch.save(model.state_dict(), 'tut1-model.pt')\n",
    "    \n",
    "    train_history.append(train_loss)\n",
    "    valid_history.append(valid_loss)\n",
    "    print(f'Epoch: {epoch+1:02} | Time: {epoch_mins}m {epoch_secs}s')\n",
    "    print(f'\\tTrain Loss: {train_loss:.3f} | Train PPL: {math.exp(train_loss):7.3f}')\n",
    "    print(f'\\t Val. Loss: {valid_loss:.3f} |  Val. PPL: {math.exp(valid_loss):7.3f}')"
   ]
  },
  {
   "cell_type": "markdown",
   "metadata": {},
   "source": [
    "__Let's take a look at our network quality__:"
   ]
  },
  {
   "cell_type": "code",
   "execution_count": 104,
   "metadata": {},
   "outputs": [],
   "source": [
    "del utils"
   ]
  },
  {
   "cell_type": "code",
   "execution_count": 105,
   "metadata": {},
   "outputs": [],
   "source": [
    "import utils\n",
    "import imp\n",
    "imp.reload(utils)\n",
    "generate_translation = utils.generate_translation\n",
    "remove_tech_tokens = utils.remove_tech_tokens\n",
    "get_text = utils.get_text\n",
    "flatten = utils.flatten"
   ]
  },
  {
   "cell_type": "code",
   "execution_count": 106,
   "metadata": {},
   "outputs": [],
   "source": [
    "batch = next(iter(test_iterator))"
   ]
  },
  {
   "cell_type": "code",
   "execution_count": 107,
   "metadata": {},
   "outputs": [
    {
     "name": "stdout",
     "output_type": "stream",
     "text": [
      "Original: there is a 24 - hour front desk at the property .\n",
      "Generated: the property offers a 24 - hour front desk . .\n",
      "\n",
      "Original: this property also features free wifi .\n",
      "Generated: free wifi access . . . .\n",
      "\n"
     ]
    }
   ],
   "source": [
    "for idx in [1,2]:\n",
    "    src = batch.src[:, idx:idx+1]\n",
    "    trg = batch.trg[:, idx:idx+1]\n",
    "    generate_translation(src, trg, model, TRG.vocab)"
   ]
  },
  {
   "cell_type": "code",
   "execution_count": 108,
   "metadata": {},
   "outputs": [],
   "source": [
    "from nltk.translate.bleu_score import corpus_bleu\n",
    "\n",
    "#     \"\"\" Estimates corpora-level BLEU score of model's translations given inp and reference out \"\"\"\n",
    "#     translations, _ = model.translate_lines(inp_lines, **flags)\n",
    "#     # Note: if you experience out-of-memory error, split input lines into batches and translate separately\n",
    "#     return corpus_bleu([[ref] for ref in out_lines], translations) * 100"
   ]
  },
  {
   "cell_type": "code",
   "execution_count": 109,
   "metadata": {},
   "outputs": [],
   "source": [
    "import tqdm"
   ]
  },
  {
   "cell_type": "code",
   "execution_count": 110,
   "metadata": {},
   "outputs": [
    {
     "name": "stderr",
     "output_type": "stream",
     "text": [
      "59it [00:03, 18.87it/s]\n"
     ]
    }
   ],
   "source": [
    "original_text = []\n",
    "generated_text = []\n",
    "model.eval()\n",
    "with torch.no_grad():\n",
    "\n",
    "    for i, batch in tqdm.tqdm(enumerate(test_iterator)):\n",
    "\n",
    "        src = batch.src\n",
    "        trg = batch.trg\n",
    "\n",
    "        output = model(src, trg, 0) #turn off teacher forcing\n",
    "\n",
    "        #trg = [trg sent len, batch size]\n",
    "        #output = [trg sent len, batch size, output dim]\n",
    "\n",
    "        output = output.argmax(dim=-1)\n",
    "        \n",
    "        original_text.extend([get_text(x, TRG.vocab) for x in trg.cpu().numpy().T])\n",
    "        generated_text.extend([get_text(x, TRG.vocab) for x in output[1:].detach().cpu().numpy().T])\n",
    "\n",
    "# original_text = flatten(original_text)\n",
    "# generated_text = flatten(generated_text)"
   ]
  },
  {
   "cell_type": "code",
   "execution_count": 111,
   "metadata": {},
   "outputs": [
    {
     "data": {
      "text/plain": [
       "14.139920232081806"
      ]
     },
     "execution_count": 111,
     "metadata": {},
     "output_type": "execute_result"
    }
   ],
   "source": [
    "corpus_bleu([[text] for text in original_text], generated_text) * 100"
   ]
  },
  {
   "cell_type": "markdown",
   "metadata": {},
   "source": []
  }
 ],
 "metadata": {
  "anaconda-cloud": {},
  "colab": {
   "collapsed_sections": [],
   "machine_shape": "hm",
   "name": "homework.ipynb",
   "provenance": []
  },
  "kernelspec": {
   "display_name": ".venv",
   "language": "python",
   "name": "python3"
  },
  "language_info": {
   "codemirror_mode": {
    "name": "ipython",
    "version": 3
   },
   "file_extension": ".py",
   "mimetype": "text/x-python",
   "name": "python",
   "nbconvert_exporter": "python",
   "pygments_lexer": "ipython3",
   "version": "3.11.7"
  }
 },
 "nbformat": 4,
 "nbformat_minor": 1
}
